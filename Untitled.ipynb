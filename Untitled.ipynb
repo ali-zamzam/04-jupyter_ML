{
 "cells": [
  {
   "cell_type": "code",
   "execution_count": 1,
   "id": "b8a015d8",
   "metadata": {},
   "outputs": [],
   "source": [
    "import pandas as pd\n",
    "import numpy as np"
   ]
  },
  {
   "cell_type": "code",
   "execution_count": 2,
   "id": "c5862e07",
   "metadata": {},
   "outputs": [],
   "source": [
    "# Frequentation-gares\n",
    "url_frequentation_gares = 'https://data.sncf.com/explore/dataset/frequentation-gares/download/?format=json&timezone=Europe/Berlin&lang=fr'\n",
    "# referentiel-gares-voyageurs\n",
    "url_gares_voyageurs = 'https://data.sncf.com/explore/dataset/referentiel-gares-voyageurs/download/?format=json&timezone=Europe/Berlin&lang=fr'\n",
    "# Répartition des clients par catégorie socio-professionnelle\n",
    "url_cat_socio_profe = 'https://data.sncf.com/explore/dataset/enquetes-gares-connexions-repartition-par-repartition-par-categories-socio-profe/download/?format=json&timezone=Europe/Berlin&lang=fr'\n",
    "# Répartition des clients par fréquence en gare\n",
    "url_frequence_gare = 'https://data.sncf.com/explore/dataset/frequence-gare/download/?format=json&timezone=Europe/Berlin&lang=fr'\n",
    "# Répartition des clients par motif de déplacement\n",
    "url_motif_deplacement = 'https://data.sncf.com/explore/dataset/motif-deplacement/download/?format=json&timezone=Europe/Berlin&lang=fr'\n",
    "# Répartition des modes d'accès\n",
    "url_modes_acces = 'https://data.sncf.com/explore/dataset/repartition-de-lutilisation-des-moyens-dacces-ou-de-diffusion-a-la-gare-enquetes/download/?format=json&timezone=Europe/Berlin&lang=fr'\n",
    "# Répartition des distances d’accès à la gare\n",
    "url_distance_acces_gare = 'https://data.sncf.com/explore/dataset/repartition-des-distances-dacces-a-la-gare-enquetes-en-gare/download/?format=json&timezone=Europe/Berlin&lang=fr'"
   ]
  },
  {
   "cell_type": "code",
   "execution_count": 3,
   "id": "49728043",
   "metadata": {},
   "outputs": [],
   "source": [
    "def creat_dataframe(url_json):\n",
    "    \"\"\"creation du DF et formatage de la colonne UIC (qui servira d'index)\"\"\"\n",
    "    df_import = pd.read_json(url_json)\n",
    "    liste = []\n",
    "    for i in df_import['fields']:\n",
    "        liste.append(i)\n",
    "    df = pd.DataFrame(liste)\n",
    "    \n",
    "    for i in df.columns:\n",
    "        if i.find('uic') != -1:\n",
    "            uic = i\n",
    "    df = df.dropna(axis=0, subset=[uic]) # suppression NAN\n",
    "    df[uic] = df[uic].apply(lambda x : str(int(x))[-6:]) # conserve les 6 derniers digits \n",
    "    df.rename(columns={uic: 'UIC'}, inplace=True)\n",
    "    \n",
    "    \n",
    "    return df"
   ]
  },
  {
   "cell_type": "code",
   "execution_count": 4,
   "id": "d3f6ba73",
   "metadata": {},
   "outputs": [],
   "source": [
    "df_frequentation_gares = creat_dataframe(url_frequentation_gares)[['UIC','nom_gare','code_postal','segmentation_drg_2018','total_voyageurs_non_voyageurs_2015','total_voyageurs_non_voyageurs_2016','total_voyageurs_non_voyageurs_2017','total_voyageurs_non_voyageurs_2018','total_voyageurs_non_voyageurs_2019']].set_index('UIC')\n",
    "df_gares_voyageurs = creat_dataframe(url_gares_voyageurs)[['UIC','longitude_entreeprincipale_wgs84','latitude_entreeprincipale_wgs84']].set_index('UIC')\n",
    "df_cat_socio_profe = creat_dataframe(url_cat_socio_profe).set_index('UIC')\n",
    "df_frequence_gare = creat_dataframe(url_frequence_gare).set_index('UIC')\n",
    "df_motif_deplacement = creat_dataframe(url_motif_deplacement).set_index('UIC')\n",
    "df_modes_acces = creat_dataframe(url_modes_acces).set_index('UIC')\n",
    "df_distance_acces_gare = creat_dataframe(url_distance_acces_gare).set_index('UIC')\n",
    "\n",
    "liste_df = [df_frequentation_gares,df_gares_voyageurs,df_cat_socio_profe,df_frequence_gare,df_motif_deplacement,df_modes_acces,df_distance_acces_gare]\n"
   ]
  },
  {
   "cell_type": "code",
   "execution_count": 5,
   "id": "1faccbc3",
   "metadata": {},
   "outputs": [],
   "source": [
    "def traitement(df,colonne_tri):\n",
    "    \"\"\"Fonction permettant de constituer un Dataframe avec un index 'UIC' unique \"\"\"\n",
    "    \n",
    "    # Dictionnaire des années dans le Dataframe costitué de nan : {'2010': nan, '2011': nan, ..., '2017': nan}\n",
    "    mes_annees = df.annee.drop_duplicates().sort_values()\n",
    "    dico_annees = {}\n",
    "    for i in mes_annees:\n",
    "        dico_annees[i] = np.nan\n",
    "\n",
    "    # Dictionnaire des colonnes de tri contenant le dico_annees : {'Agriculteur': {'2010': nan,..., '2017': nan}, ... ,'Etudiant' : {'2010': nan,..., '2017': nan}}\n",
    "    # Dictionnaire des gares contenants le dico_colonnes : {'484006': {'Agriculteur': {'2010': nan,...}, 'Etudiant' : {'2010': nan,...}...} ,'484008': ... }\n",
    "    dico = {}\n",
    "    mes_colonnes = list(df[colonne_tri].drop_duplicates())\n",
    "    for i in df.index:\n",
    "        dico_colonnes = {}\n",
    "        for j in mes_colonnes:\n",
    "            dico_colonnes[j] = dico_annees.copy()\n",
    "        \n",
    "        dico[i] = dico_colonnes\n",
    "    \n",
    "    # Remplissage du dico\n",
    "    index_pourcentage = list(df.columns).index('pourcentage')\n",
    "    index_annee = list(df.columns).index('annee')\n",
    "    index_colonne_tri = list(df.columns).index(colonne_tri)\n",
    "\n",
    "    for i in range(len(df)):\n",
    "        dico[df.index[i]][df.iloc[i,index_colonne_tri]][df.iloc[i,index_annee]] = df.iloc[i,index_pourcentage]\n",
    "           \n",
    "    # Moyenne sur les années\n",
    "    for key_col, val_col in dico.items():\n",
    "        for key_an,val_an in val_col.items():\n",
    "            val = 0\n",
    "            i=1\n",
    "            for key_pourcen, val_pourcen in val_an.items():\n",
    "                if str(val_pourcen) != str(np.nan):\n",
    "                    val+=val_pourcen\n",
    "                    i+=1\n",
    "            if i>1:\n",
    "                i-=1\n",
    "            dico[key_col][key_an] = val/i\n",
    "        \n",
    "    # Costitution du nouveau Dataframe\n",
    "    new_df = pd.DataFrame(dico.values(),index=dico.keys())\n",
    "    \n",
    "    return new_df\n"
   ]
  },
  {
   "cell_type": "code",
   "execution_count": 6,
   "id": "8925d16f",
   "metadata": {},
   "outputs": [],
   "source": [
    "new_df_cat_socio_profe = traitement(df= df_cat_socio_profe, colonne_tri = 'csp')\n",
    "new_df_frequence_gare = traitement(df= df_frequence_gare, colonne_tri = 'frequence')\n",
    "new_df_motif_deplacement = traitement(df= df_motif_deplacement, colonne_tri = 'motif_du_deplacement')\n",
    "new_df_modes_acces = traitement(df= df_modes_acces, colonne_tri = 'gpe_intermodalites_usagers')\n",
    "new_df_distance_acces_gare = traitement(df= df_distance_acces_gare, colonne_tri = 'classe_distance_gare_rab_dif')"
   ]
  },
  {
   "cell_type": "code",
   "execution_count": 7,
   "id": "dd54ea43",
   "metadata": {},
   "outputs": [],
   "source": [
    "#traitement df_frequentation_gares\n",
    "new_df_frequentation_gares = pd.DataFrame(df_frequentation_gares['total_voyageurs_non_voyageurs_2019'].groupby(df_frequentation_gares['code_postal']).sum())\n",
    "\n",
    "for i in new_df_frequentation_gares.index:\n",
    "    if len(i) < 5:\n",
    "        new_df_frequentation_gares = new_df_frequentation_gares.rename(index={i : str(0) + i })\n",
    "new_df_frequentation_gares\n",
    "\n",
    "new_df_frequentation_gares = new_df_frequentation_gares.rename(columns={'total_voyageurs_non_voyageurs_2019' : 'voyageurs'})"
   ]
  },
  {
   "cell_type": "code",
   "execution_count": 14,
   "id": "0c4100dd",
   "metadata": {},
   "outputs": [
    {
     "name": "stdout",
     "output_type": "stream",
     "text": [
      "<class 'pandas.core.frame.DataFrame'>\n",
      "Index: 2124 entries, 01000 to 98000\n",
      "Data columns (total 1 columns):\n",
      " #   Column     Non-Null Count  Dtype\n",
      "---  ------     --------------  -----\n",
      " 0   voyageurs  2124 non-null   int64\n",
      "dtypes: int64(1)\n",
      "memory usage: 33.2+ KB\n"
     ]
    }
   ],
   "source": [
    "new_df_frequentation_gares.info()\n"
   ]
  },
  {
   "cell_type": "markdown",
   "id": "8712f780",
   "metadata": {},
   "source": [
    "<h1> Data Population </h1>\n"
   ]
  },
  {
   "cell_type": "code",
   "execution_count": 8,
   "id": "7d4ad814",
   "metadata": {},
   "outputs": [],
   "source": [
    "url_insee = 'https://public.opendatasoft.com/explore/dataset/correspondance-code-insee-code-postal/download/?format=csv&timezone=Europe/Berlin&lang=fr&use_labels_for_header=true&csv_separator=%3B'\n",
    "data_insee = pd.read_csv(url_insee,sep=\";\")[['Code Postal','Population']]\n",
    "# Remarque : Population (*1000 hab)"
   ]
  },
  {
   "cell_type": "code",
   "execution_count": 15,
   "id": "4c12f6ea",
   "metadata": {},
   "outputs": [
    {
     "data": {
      "text/html": [
       "<div>\n",
       "<style scoped>\n",
       "    .dataframe tbody tr th:only-of-type {\n",
       "        vertical-align: middle;\n",
       "    }\n",
       "\n",
       "    .dataframe tbody tr th {\n",
       "        vertical-align: top;\n",
       "    }\n",
       "\n",
       "    .dataframe thead th {\n",
       "        text-align: right;\n",
       "    }\n",
       "</style>\n",
       "<table border=\"1\" class=\"dataframe\">\n",
       "  <thead>\n",
       "    <tr style=\"text-align: right;\">\n",
       "      <th></th>\n",
       "      <th>Population</th>\n",
       "      <th>code_postal</th>\n",
       "    </tr>\n",
       "    <tr>\n",
       "      <th>Code Postal</th>\n",
       "      <th></th>\n",
       "      <th></th>\n",
       "    </tr>\n",
       "  </thead>\n",
       "  <tbody>\n",
       "    <tr>\n",
       "      <th>01000</th>\n",
       "      <td>45000.0</td>\n",
       "      <td>01000</td>\n",
       "    </tr>\n",
       "    <tr>\n",
       "      <th>01090</th>\n",
       "      <td>8500.0</td>\n",
       "      <td>01090</td>\n",
       "    </tr>\n",
       "    <tr>\n",
       "      <th>01100</th>\n",
       "      <td>33900.0</td>\n",
       "      <td>01100</td>\n",
       "    </tr>\n",
       "    <tr>\n",
       "      <th>01110</th>\n",
       "      <td>7000.0</td>\n",
       "      <td>01110</td>\n",
       "    </tr>\n",
       "    <tr>\n",
       "      <th>01120</th>\n",
       "      <td>17700.0</td>\n",
       "      <td>01120</td>\n",
       "    </tr>\n",
       "    <tr>\n",
       "      <th>...</th>\n",
       "      <td>...</td>\n",
       "      <td>...</td>\n",
       "    </tr>\n",
       "    <tr>\n",
       "      <th>97640</th>\n",
       "      <td>8000.0</td>\n",
       "      <td>97640</td>\n",
       "    </tr>\n",
       "    <tr>\n",
       "      <th>97650</th>\n",
       "      <td>14000.0</td>\n",
       "      <td>97650</td>\n",
       "    </tr>\n",
       "    <tr>\n",
       "      <th>97660</th>\n",
       "      <td>10100.0</td>\n",
       "      <td>97660</td>\n",
       "    </tr>\n",
       "    <tr>\n",
       "      <th>97670</th>\n",
       "      <td>13000.0</td>\n",
       "      <td>97670</td>\n",
       "    </tr>\n",
       "    <tr>\n",
       "      <th>97680</th>\n",
       "      <td>9200.0</td>\n",
       "      <td>97680</td>\n",
       "    </tr>\n",
       "  </tbody>\n",
       "</table>\n",
       "<p>6101 rows × 2 columns</p>\n",
       "</div>"
      ],
      "text/plain": [
       "             Population code_postal\n",
       "Code Postal                        \n",
       "01000           45000.0       01000\n",
       "01090            8500.0       01090\n",
       "01100           33900.0       01100\n",
       "01110            7000.0       01110\n",
       "01120           17700.0       01120\n",
       "...                 ...         ...\n",
       "97640            8000.0       97640\n",
       "97650           14000.0       97650\n",
       "97660           10100.0       97660\n",
       "97670           13000.0       97670\n",
       "97680            9200.0       97680\n",
       "\n",
       "[6101 rows x 2 columns]"
      ]
     },
     "execution_count": 15,
     "metadata": {},
     "output_type": "execute_result"
    }
   ],
   "source": [
    "df_Population = pd.DataFrame(data_insee['Population'].groupby(data_insee['Code Postal']).sum())\n",
    "df_Population['code_postal'] = df_Population.index\n",
    "df_Population.reset_index\n",
    "df_Population['Population'] = df_Population['Population']*1000\n",
    "df_Population"
   ]
  },
  {
   "cell_type": "code",
   "execution_count": 16,
   "id": "b901b6a6",
   "metadata": {},
   "outputs": [
    {
     "data": {
      "text/plain": [
       "64500000.0"
      ]
     },
     "execution_count": 16,
     "metadata": {},
     "output_type": "execute_result"
    }
   ],
   "source": [
    "df_Population.Population.sum()"
   ]
  },
  {
   "cell_type": "code",
   "execution_count": 11,
   "id": "ff2794d1",
   "metadata": {},
   "outputs": [],
   "source": [
    "df_Population.to_csv('population.csv')"
   ]
  },
  {
   "cell_type": "markdown",
   "id": "38b53809",
   "metadata": {},
   "source": [
    "<h1> Merge Population Frequentation Gare </h1>"
   ]
  },
  {
   "cell_type": "code",
   "execution_count": 23,
   "id": "5daad524",
   "metadata": {},
   "outputs": [],
   "source": [
    "DF_Population_Frequentation_gare = df_Population.merge(new_df_frequentation_gares,how='left',on='code_postal')"
   ]
  },
  {
   "cell_type": "code",
   "execution_count": 24,
   "id": "250bbcda",
   "metadata": {},
   "outputs": [
    {
     "name": "stdout",
     "output_type": "stream",
     "text": [
      "<class 'pandas.core.frame.DataFrame'>\n",
      "Int64Index: 6101 entries, 0 to 6100\n",
      "Data columns (total 3 columns):\n",
      " #   Column       Non-Null Count  Dtype  \n",
      "---  ------       --------------  -----  \n",
      " 0   Population   6101 non-null   float64\n",
      " 1   code_postal  6101 non-null   object \n",
      " 2   voyageurs    2032 non-null   float64\n",
      "dtypes: float64(2), object(1)\n",
      "memory usage: 190.7+ KB\n"
     ]
    }
   ],
   "source": [
    "DF_Population_Frequentation_gare.info()"
   ]
  },
  {
   "cell_type": "code",
   "execution_count": 22,
   "id": "6f5c71d5",
   "metadata": {},
   "outputs": [],
   "source": [
    "# Traitement des données\n",
    "# DF_Population_Frequentation_gare.dropna(subset = ['voyageurs'])\n",
    "DF_Population_Frequentation_gare = DF_Population_Frequentation_gare.dropna()"
   ]
  },
  {
   "cell_type": "code",
   "execution_count": 64,
   "id": "b5127572",
   "metadata": {},
   "outputs": [],
   "source": [
    "# DF_Population_Frequentation_gare['78100' == DF_Population_Frequentation_gare['code_postal']]"
   ]
  },
  {
   "cell_type": "markdown",
   "id": "3e1ec286",
   "metadata": {},
   "source": [
    "<h1> Analyse </h1>"
   ]
  },
  {
   "cell_type": "code",
   "execution_count": 65,
   "id": "4c6be685",
   "metadata": {},
   "outputs": [],
   "source": [
    "import matplotlib.pyplot as plt"
   ]
  },
  {
   "cell_type": "code",
   "execution_count": 84,
   "id": "38fc464b",
   "metadata": {},
   "outputs": [
    {
     "data": {
      "image/png": "[encoded data removed]",
      "text/plain": [
       "<Figure size 432x288 with 1 Axes>"
      ]
     },
     "metadata": {
      "needs_background": "light"
     },
     "output_type": "display_data"
    }
   ],
   "source": [
    "plt.scatter(DF_Population_Frequentation_gare['Population'], DF_Population_Frequentation_gare['voyageurs']) \n",
    "plt.ylim(0,50000000)\n",
    "plt.xlabel(\"Population\")\n",
    "plt.ylabel(\"voyageurs\")\n",
    "plt.show()"
   ]
  },
  {
   "cell_type": "code",
   "execution_count": 68,
   "id": "2f708c94",
   "metadata": {},
   "outputs": [
    {
     "data": {
      "text/html": [
       "<div>\n",
       "<style scoped>\n",
       "    .dataframe tbody tr th:only-of-type {\n",
       "        vertical-align: middle;\n",
       "    }\n",
       "\n",
       "    .dataframe tbody tr th {\n",
       "        vertical-align: top;\n",
       "    }\n",
       "\n",
       "    .dataframe thead th {\n",
       "        text-align: right;\n",
       "    }\n",
       "</style>\n",
       "<table border=\"1\" class=\"dataframe\">\n",
       "  <thead>\n",
       "    <tr style=\"text-align: right;\">\n",
       "      <th></th>\n",
       "      <th>Population</th>\n",
       "      <th>code_postal</th>\n",
       "      <th>voyageurs</th>\n",
       "    </tr>\n",
       "  </thead>\n",
       "  <tbody>\n",
       "    <tr>\n",
       "      <th>0</th>\n",
       "      <td>45000.0</td>\n",
       "      <td>01000</td>\n",
       "      <td>2213109.0</td>\n",
       "    </tr>\n",
       "    <tr>\n",
       "      <th>2</th>\n",
       "      <td>33900.0</td>\n",
       "      <td>01100</td>\n",
       "      <td>128347.0</td>\n",
       "    </tr>\n",
       "    <tr>\n",
       "      <th>4</th>\n",
       "      <td>17700.0</td>\n",
       "      <td>01120</td>\n",
       "      <td>636960.0</td>\n",
       "    </tr>\n",
       "    <tr>\n",
       "      <th>8</th>\n",
       "      <td>9100.0</td>\n",
       "      <td>01160</td>\n",
       "      <td>31070.0</td>\n",
       "    </tr>\n",
       "    <tr>\n",
       "      <th>11</th>\n",
       "      <td>20000.0</td>\n",
       "      <td>01200</td>\n",
       "      <td>1632078.0</td>\n",
       "    </tr>\n",
       "    <tr>\n",
       "      <th>...</th>\n",
       "      <td>...</td>\n",
       "      <td>...</td>\n",
       "      <td>...</td>\n",
       "    </tr>\n",
       "    <tr>\n",
       "      <th>5971</th>\n",
       "      <td>2700.0</td>\n",
       "      <td>95740</td>\n",
       "      <td>353741.0</td>\n",
       "    </tr>\n",
       "    <tr>\n",
       "      <th>5972</th>\n",
       "      <td>2000.0</td>\n",
       "      <td>95750</td>\n",
       "      <td>216668.0</td>\n",
       "    </tr>\n",
       "    <tr>\n",
       "      <th>5976</th>\n",
       "      <td>6500.0</td>\n",
       "      <td>95800</td>\n",
       "      <td>26536177.0</td>\n",
       "    </tr>\n",
       "    <tr>\n",
       "      <th>5978</th>\n",
       "      <td>3600.0</td>\n",
       "      <td>95820</td>\n",
       "      <td>112059.0</td>\n",
       "    </tr>\n",
       "    <tr>\n",
       "      <th>5983</th>\n",
       "      <td>11900.0</td>\n",
       "      <td>95880</td>\n",
       "      <td>7568159.0</td>\n",
       "    </tr>\n",
       "  </tbody>\n",
       "</table>\n",
       "<p>2032 rows × 3 columns</p>\n",
       "</div>"
      ],
      "text/plain": [
       "      Population code_postal   voyageurs\n",
       "0        45000.0       01000   2213109.0\n",
       "2        33900.0       01100    128347.0\n",
       "4        17700.0       01120    636960.0\n",
       "8         9100.0       01160     31070.0\n",
       "11       20000.0       01200   1632078.0\n",
       "...          ...         ...         ...\n",
       "5971      2700.0       95740    353741.0\n",
       "5972      2000.0       95750    216668.0\n",
       "5976      6500.0       95800  26536177.0\n",
       "5978      3600.0       95820    112059.0\n",
       "5983     11900.0       95880   7568159.0\n",
       "\n",
       "[2032 rows x 3 columns]"
      ]
     },
     "execution_count": 68,
     "metadata": {},
     "output_type": "execute_result"
    }
   ],
   "source": [
    "DF_Population_Frequentation_gare"
   ]
  },
  {
   "cell_type": "code",
   "execution_count": 38,
   "id": "706888b1",
   "metadata": {},
   "outputs": [
    {
     "data": {
      "text/html": [
       "<div>\n",
       "<style scoped>\n",
       "    .dataframe tbody tr th:only-of-type {\n",
       "        vertical-align: middle;\n",
       "    }\n",
       "\n",
       "    .dataframe tbody tr th {\n",
       "        vertical-align: top;\n",
       "    }\n",
       "\n",
       "    .dataframe thead th {\n",
       "        text-align: right;\n",
       "    }\n",
       "</style>\n",
       "<table border=\"1\" class=\"dataframe\">\n",
       "  <thead>\n",
       "    <tr style=\"text-align: right;\">\n",
       "      <th></th>\n",
       "      <th>Population</th>\n",
       "      <th>code_postal</th>\n",
       "      <th>voyageurs</th>\n",
       "    </tr>\n",
       "  </thead>\n",
       "  <tbody>\n",
       "    <tr>\n",
       "      <th>4751</th>\n",
       "      <td>95.9</td>\n",
       "      <td>75010</td>\n",
       "      <td>365358935.0</td>\n",
       "    </tr>\n",
       "  </tbody>\n",
       "</table>\n",
       "</div>"
      ],
      "text/plain": [
       "      Population code_postal    voyageurs\n",
       "4751        95.9       75010  365358935.0"
      ]
     },
     "execution_count": 38,
     "metadata": {},
     "output_type": "execute_result"
    }
   ],
   "source": [
    "DF_Population_Frequentation_gare[365358935.0 == DF_Population_Frequentation_gare['voyageurs']]"
   ]
  },
  {
   "cell_type": "code",
   "execution_count": 30,
   "id": "140c4dd8",
   "metadata": {},
   "outputs": [
    {
     "name": "stdout",
     "output_type": "stream",
     "text": [
      "Index(['Scolaire (avant le bac)', 'Agriculteur, Exploitant agricole', 'Autre',\n",
      "       'Artisan, Commerçant, Chef d'entreprise TPE', 'Etudiant (après le bac)',\n",
      "       'Militaire', 'Sans emploi', 'Non communiqué', 'Ouvrier, Employé',\n",
      "       'Cadre, Profession libérale ou intellectuelle, Chef d'entreprise > 10 salariés',\n",
      "       'Retraité', 'Enseignant, Professeur', 'Technicien, Agent de maîtrise'],\n",
      "      dtype='object')\n",
      "Index([                 'C'est la première fois',\n",
      "       'Tous les jours de la semaine ou presque',\n",
      "                        '1 à 2 fois par semaine',\n",
      "                  '1 ou plusieurs fois par mois',\n",
      "                       'Moins d'1 fois par mois',\n",
      "                                             nan],\n",
      "      dtype='object')\n",
      "Index(['Démarches administratives, médicales ou achat',\n",
      "       'Loisirs, vacances, visite d'un proche ou ami',\n",
      "       'Déplacement professionnel occasionnel',\n",
      "       'Déplacement domicile - travail habituel',\n",
      "       'Déplacement domicile - étude (y compris stage)'],\n",
      "      dtype='object')\n",
      "Index(['Voiture conducteur', 'Bus/Car/Navette', '2 roues motorisées',\n",
      "       'Voiture passager', 'Autres voitures ( location, autopartage)',\n",
      "       'Tramway', 'Taxis', 'Vélo', 'Métro / RER', 'Marche'],\n",
      "      dtype='object')\n",
      "Index(['06 à 08 km', '20 à 30 km', '04 à 06 km', '10 à 15 km', '30 à 50 km',\n",
      "       'Plus de 100 km', '50 à 100 km', 'Moins de 2 km', '15 à 20 km',\n",
      "       '08 à 10 km', '02 à 04 km'],\n",
      "      dtype='object')\n"
     ]
    }
   ],
   "source": [
    "print(new_df_cat_socio_profe.columns)\n",
    "print(new_df_frequence_gare.columns)\n",
    "print(new_df_motif_deplacement.columns)\n",
    "print(new_df_modes_acces.columns)\n",
    "print(new_df_distance_acces_gare.columns)"
   ]
  },
  {
   "cell_type": "code",
   "execution_count": null,
   "id": "9b83e3a1",
   "metadata": {},
   "outputs": [],
   "source": []
  }
 ],
 "metadata": {
  "kernelspec": {
   "display_name": "Python 3",
   "language": "python",
   "name": "python3"
  },
  "language_info": {
   "codemirror_mode": {
    "name": "ipython",
    "version": 3
   },
   "file_extension": ".py",
   "mimetype": "text/x-python",
   "name": "python",
   "nbconvert_exporter": "python",
   "pygments_lexer": "ipython3",
   "version": "3.8.10"
  }
 },
 "nbformat": 4,
 "nbformat_minor": 5
}
