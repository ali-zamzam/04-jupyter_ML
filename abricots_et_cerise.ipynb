{
 "cells": [
  {
   "cell_type": "markdown",
   "id": "b348267f",
   "metadata": {},
   "source": [
    "# Une machine qui apprend seule"
   ]
  },
  {
   "cell_type": "markdown",
   "id": "1cdd6966",
   "metadata": {},
   "source": [
    "L’ensemble des apprentissages que nous avons réalisés jusqu’à présent sont dits supervisés, car nous avons indiqué à la machine la valeur à prédire pour chaque cas d’apprentissage : "
   ]
  },
  {
   "cell_type": "markdown",
   "id": "2e6b224e",
   "metadata": {},
   "source": [
    "Nous allons à présent découvrir comment il est possible de laisser la machine se débrouiller toute seule pour apprendre à classifier une observation donnée à partir d’une liste d’observations dont elle ne connaît pas le groupe d’appartenance. \"Voici une liste d’observations : peux-tu en déduire des groupes de classification ? Si oui, voici une observation : à quel groupe appartient-elle ?\""
   ]
  },
  {
   "cell_type": "markdown",
   "id": "4b05c300",
   "metadata": {},
   "source": [
    "# Acquisition de données d’apprentissage"
   ]
  },
  {
   "cell_type": "markdown",
   "id": "bf77d9a4",
   "metadata": {},
   "source": [
    "Comme pour tout apprentissage, nous devons disposer de données. La machine devra être capable de faire la distinction entre une cerise et un abricot à partir du poids et de la taille de chaque fruit."
   ]
  },
  {
   "cell_type": "markdown",
   "id": "802bb4b1",
   "metadata": {},
   "source": [
    "TABLEAUX-CALIBRES-FRUITS-2.pdf"
   ]
  },
  {
   "cell_type": "markdown",
   "id": "ce536e25",
   "metadata": {},
   "source": [
    "<h5>script Python pour nous aider:</h5>"
   ]
  },
  {
   "cell_type": "markdown",
   "id": "c83078c5",
   "metadata": {},
   "source": [
    "Nous allons créer un script Python qui va nous permettre de générer un nombre de cerises et d’abricots en fonction des caractéristiques qui leur sont propres.\n",
    "\n",
    "Après avoir créé un nouveau projet et installé les modules Pandas, Matplotlib et Scikit-learn, nous vous invitons à saisir ces quelques lignes de code dans un nouveau fichier de script que nous nommerons <b>generationFruits</b>"
   ]
  },
  {
   "cell_type": "code",
   "execution_count": 2,
   "id": "6fd70bf0",
   "metadata": {},
   "outputs": [],
   "source": [
    "#---- IMPORT DES MODULES -- \n",
    "import random \n",
    "import pandas as pnd \n",
    "import matplotlib.pyplot as plt\n",
    "\n",
    "#---- CARACTERISTIQUES------ \n",
    " \n",
    "#CERISES \n",
    "caracteristiquesCerises = [[17,19,1,5],[20,21,5,6],[22,23,6,7],[24,25,7,8.5],[26,27,8.5,10],[28,29,10,11.5]] \n",
    " \n",
    "#ABRICOTS \n",
    "caracteristiquesAbricots =  [[40,44,41],[45,49,54],[50,54,74],[55,59,100]]\n",
    "\n",
    "#Nous pouvons ensuite définir le nombre de fruits à générer :\n",
    "\n",
    "#GENERATION DES DONNEES\n",
    "# [DIAMETRE, POIDS]\n",
    "nombreObservations = 2000"
   ]
  },
  {
   "cell_type": "markdown",
   "id": "0fbd26b3",
   "metadata": {},
   "source": [
    "<h4>Nous générerons 2000 cerises et 2000 abricots.</h4>"
   ]
  },
  {
   "cell_type": "code",
   "execution_count": 3,
   "id": "23a7d361",
   "metadata": {},
   "outputs": [],
   "source": [
    "#Génération des cerises \n",
    "#choix au hasard d'une caractéristique \n",
    "#Génération d'un diamètre\n",
    "#Génération d'un poids \n",
    "cerises = []\n",
    "for iteration in range(nombreObservations):\n",
    "    #choix au hazard d'une caracteristique\n",
    "    cerise = random.choice(caracteristiquesCerises)\n",
    "    \n",
    "    #Generation d'un diametre\n",
    "    diametre = round(random.uniform(cerise[0], cerise[1]),2)\n",
    "    \n",
    "    #Generation d'un poids\n",
    "    poids = round(random.uniform(cerise[2], cerise[3]),2)\n",
    "    \n",
    "    cerises.append([diametre, poids])\n",
    "    \n",
    "\n",
    "# print(cerises)\n",
    "\n",
    "# caracteristiques   DIAMETRE       POIDS\n",
    "# [22, 23, 6, 7] :    22.35    -    6.59\n",
    "\n",
    "# cerises : [[22.35, 6.59], [24.33, 7.38] ........ "
   ]
  },
  {
   "cell_type": "code",
   "execution_count": 4,
   "id": "f8ccb43f",
   "metadata": {},
   "outputs": [],
   "source": [
    "#Génération des abricots \n",
    "#choix au hasard d'une caractéristique\n",
    "#Génération d'un diamètre\n",
    "#Génération d'un poids \n",
    "abricots = []\n",
    "for iteration in range(nombreObservations):\n",
    "    #choix au hazard d'une caracteristique\n",
    "    abricot = random.choice(caracteristiquesAbricots)\n",
    "    \n",
    "    #Generation d'un diametre\n",
    "    diametre = round(random.uniform(abricot[0], abricot[1]),2)\n",
    "    \n",
    "    #Generation d'un poids\n",
    "    borneMinPoids = abricot[2] * 0.90\n",
    "    borneMaxPoids = abricot[2] * 1.10\n",
    "    poids = round(random.uniform(borneMinPoids, borneMaxPoids),2)\n",
    "    \n",
    "    abricots.append([diametre, poids])\n",
    "    \n",
    "# caracteristiques   DIAMETRE       POIDS\n",
    "# [40, 44, 41] :      43.29    -    41.24\n",
    "    \n",
    "# abricots : [[43.29, 41.24], [48.2, 49.96] .........."
   ]
  },
  {
   "cell_type": "markdown",
   "id": "fc0ea2ee",
   "metadata": {},
   "source": [
    "<p>Pour chaque cerise et chaque abricot, une caractéristique est choisie au hasard. Les diamètres minimal et maximal de cette caractéristique sont ensuite récupérés et le diamètre est généré aléatoirement dans cette plage.</p>\n",
    "<p>\n",
    "Nous procédons de la même façon pour le poids de la cerise. Comme nous ne disposons que d’un poids moyen pour l’abricot par caractéristique, nous choisissons de créer aléatoirement un poids compris entre le poids moyen -10 % et le poids moyen + 10 %. Le diamètre et le poids sont ensuite stockés dans un tableau.    \n",
    "</p>"
   ]
  },
  {
   "cell_type": "markdown",
   "id": "e0ca065b",
   "metadata": {},
   "source": [
    "Enfin, nous concaténons les tableaux de cerises et d’abricots et nous mélangeons le résultat."
   ]
  },
  {
   "cell_type": "markdown",
   "id": "54c5bc96",
   "metadata": {},
   "source": [
    "Notre jeu d’observation est à présent constitué. Nous pouvons le sauvegarder au format CSV à l’aide du module Panda et de la fonction <b>to_csv</b> du <b>Dataframe. </b>"
   ]
  },
  {
   "cell_type": "code",
   "execution_count": 5,
   "id": "df109ad9",
   "metadata": {},
   "outputs": [],
   "source": [
    "#Constitution des observations\n",
    "#Mélange des observations \n",
    "#save csv"
   ]
  },
  {
   "cell_type": "code",
   "execution_count": 6,
   "id": "1e0a5a7f",
   "metadata": {},
   "outputs": [],
   "source": [
    "#Constitution des observations\n",
    "fruits = cerises+abricots\n",
    "\n",
    "#Mélange des observations\n",
    "random.shuffle(fruits)\n",
    "\n",
    "#Sauvegarde des observations dans un fichier\n",
    "dataFrame = pnd.DataFrame(fruits)\n",
    "\n",
    "dataFrame.to_csv(\"datas/fruits.csv\", index=False,header=False)"
   ]
  },
  {
   "cell_type": "markdown",
   "id": "a2172a5a",
   "metadata": {},
   "source": [
    "# Algorithme des K-Means (K-Moyennes)"
   ]
  },
  {
   "cell_type": "code",
   "execution_count": 7,
   "id": "6b3bb2c3",
   "metadata": {},
   "outputs": [],
   "source": [
    "# Visualiser les données"
   ]
  },
  {
   "cell_type": "code",
   "execution_count": 8,
   "id": "d9b16902",
   "metadata": {},
   "outputs": [],
   "source": [
    "#Chargement des données \n",
    "fruits = pnd.read_csv(\"datas/fruits.csv\",names=['DIAMETRE','POIDS'], header=None) "
   ]
  },
  {
   "cell_type": "code",
   "execution_count": 9,
   "id": "f13412b3",
   "metadata": {},
   "outputs": [
    {
     "data": {
      "text/plain": [
       "<AxesSubplot:xlabel='DIAMETRE', ylabel='POIDS'>"
      ]
     },
     "execution_count": 9,
     "metadata": {},
     "output_type": "execute_result"
    },
    {
     "data": {
      "image/png": "[encoded data removed]",
      "text/plain": [
       "<Figure size 432x288 with 1 Axes>"
      ]
     },
     "metadata": {
      "needs_background": "light"
     },
     "output_type": "display_data"
    }
   ],
   "source": [
    "#Visualisation graphique des données  scatter\n",
    "# fruits.plot.s\n",
    "# fruits.plot(kind='scatter', x='DIAMETRE', y='POIDS')\n",
    "#Visualisation graphique des données \n",
    "fruits.plot.scatter(x=\"DIAMETRE\",y=\"POIDS\") "
   ]
  },
  {
   "cell_type": "markdown",
   "id": "cac3c5fe",
   "metadata": {},
   "source": [
    "# Laisser la machine classifier seule"
   ]
  },
  {
   "cell_type": "markdown",
   "id": "dae3ae0f",
   "metadata": {},
   "source": [
    "Place maintenant à la machine. Saura-t-elle classer correctement les cerises et les abricots ?\n"
   ]
  },
  {
   "cell_type": "markdown",
   "id": "5ab877ca",
   "metadata": {},
   "source": [
    "<h3>l’algorithme K-Mean</h3>"
   ]
  },
  {
   "cell_type": "code",
   "execution_count": 10,
   "id": "56b03c7f",
   "metadata": {},
   "outputs": [],
   "source": [
    "from sklearn.cluster import KMeans \n",
    "modele=KMeans(n_clusters=2) # Nous lui avons indiqué le nombre de clusters à déterminer."
   ]
  },
  {
   "cell_type": "code",
   "execution_count": 11,
   "id": "e975de51",
   "metadata": {},
   "outputs": [
    {
     "data": {
      "text/plain": [
       "KMeans(n_clusters=2)"
      ]
     },
     "execution_count": 11,
     "metadata": {},
     "output_type": "execute_result"
    }
   ],
   "source": [
    "# phase d’apprentissage :\n",
    "modele.fit(fruits) "
   ]
  },
  {
   "cell_type": "code",
   "execution_count": 12,
   "id": "f7d87b32",
   "metadata": {},
   "outputs": [
    {
     "data": {
      "image/png": "[encoded data removed]",
      "text/plain": [
       "<Figure size 432x288 with 1 Axes>"
      ]
     },
     "metadata": {
      "needs_background": "light"
     },
     "output_type": "display_data"
    }
   ],
   "source": [
    "# phase de prédictions \n",
    "predictions_kmeans = modele.predict(fruits)\n",
    "\n",
    "#Affichage de la clusterisation \n",
    "plt.scatter(fruits.DIAMETRE, fruits.POIDS, c=predictions_kmeans, \n",
    "s=50, cmap='viridis') # couleur 'color map'\n",
    "plt.xlabel(\"DIAMETRE\") \n",
    "plt.ylabel(\"POIDS\") \n",
    "\n",
    "#Affichage des centroïdes \n",
    "centers = modele.cluster_centers_ \n",
    "plt.scatter(centers[:, 0], centers[:, 1], c='black', s=200, \n",
    "alpha=0.5) \n",
    "plt.show() "
   ]
  },
  {
   "cell_type": "code",
   "execution_count": 13,
   "id": "709333b7",
   "metadata": {},
   "outputs": [],
   "source": [
    "#joblib\n",
    "# import joblib\n",
    "# fichier = 'datas/modele_kmeans.mod'\n",
    "# joblib.dump(modele, fichier)"
   ]
  },
  {
   "cell_type": "code",
   "execution_count": 14,
   "id": "86d84155",
   "metadata": {},
   "outputs": [],
   "source": [
    "# Réaliser des classifications\n",
    "# nouveau script Python (classifications.py)\n",
    "\n",
    "#Chargement du modèle \n",
    "\n",
    "#CERISE: 26.98 mm de diamètre ,8.75 grammes \n",
    "#ABRICOT: 55.7  mm de diamètre , 102.16 grammes \n",
    "\n",
    "# print(\"Numéro de cluster des cerises: predict\")\n",
    "\n",
    "# -----\n",
    "\n",
    "# print(\"Numéro de cluster des abricots: predict\")\n",
    "# Numéro de cluster des cerises : [1] \n",
    "# Numéro de cluster des abricots : [0] \n",
    "\n",
    "# Étant donné que les clusters sont déterminés par la machine, il se peut que vous ayez des résultats différents, à savoir le groupe 1 pour les abricots et le groupe 0 pour les cerises.\n"
   ]
  },
  {
   "cell_type": "code",
   "execution_count": 16,
   "id": "577cc6ff",
   "metadata": {},
   "outputs": [
    {
     "name": "stdout",
     "output_type": "stream",
     "text": [
      "C'est un abricot !\n",
      "C'est une cerise\n"
     ]
    }
   ],
   "source": [
    "cerise = [[26.98,8.75]]\n",
    "\n",
    "numCluster = modele.predict(cerise)\n",
    "if int(numCluster)==0:\n",
    "    print(\"C'est un abricot !\")\n",
    "else:\n",
    "    print(\"C'est une cerise\")\n",
    "    \n",
    "abricot = [[55.7,102.16]]\n",
    "\n",
    "numCluster = modele.predict(abricot)\n",
    "if int(numCluster)==0:\n",
    "    print(\"C'est un abricot !\")\n",
    "else:\n",
    "    print(\"C'est une cerise\")\n",
    "    \n",
    "    "
   ]
  },
  {
   "cell_type": "markdown",
   "id": "aa00b25b",
   "metadata": {},
   "source": [
    " 1 - Une fois les groupes déterminés, nous pouvons écrire un code indiquant que les données que nous utilisons sont celles d’une cerise ou d’un abricot.<br>\n",
    "Ce code étant bien entendu à adapter en fonction des numéros de clusters.\n",
    "\n"
   ]
  },
  {
   "cell_type": "markdown",
   "id": "db029516",
   "metadata": {},
   "source": [
    "# utiliser la méthode elbow pour trouver le nombre optimal des clusters"
   ]
  },
  {
   "cell_type": "code",
   "execution_count": 17,
   "id": "92135982",
   "metadata": {},
   "outputs": [
    {
     "data": {
      "image/png": "[encoded data removed]",
      "text/plain": [
       "<Figure size 432x288 with 1 Axes>"
      ]
     },
     "metadata": {
      "needs_background": "light"
     },
     "output_type": "display_data"
    }
   ],
   "source": [
    "from sklearn.cluster import KMeans\n",
    "wcss = []\n",
    "for i in range(1,11):\n",
    "    kmeans = KMeans(n_clusters = i, init = 'k-means++', random_state=0)\n",
    "    kmeans.fit(fruits)\n",
    "    wcss.append(kmeans.inertia_)\n",
    "    \n",
    "plt.plot(range(1,11),wcss)\n",
    "plt.title('la méthode elbow')\n",
    "plt.xlabel('Nombre de clusters')\n",
    "plt.ylabel('WCSS')\n",
    "plt.show()"
   ]
  },
  {
   "cell_type": "code",
   "execution_count": null,
   "id": "9607e6e0",
   "metadata": {},
   "outputs": [],
   "source": []
  }
 ],
 "metadata": {
  "kernelspec": {
   "display_name": "Python 3",
   "language": "python",
   "name": "python3"
  },
  "language_info": {
   "codemirror_mode": {
    "name": "ipython",
    "version": 3
   },
   "file_extension": ".py",
   "mimetype": "text/x-python",
   "name": "python",
   "nbconvert_exporter": "python",
   "pygments_lexer": "ipython3",
   "version": "3.8.10"
  }
 },
 "nbformat": 4,
 "nbformat_minor": 5
}
